{
 "cells": [
  {
   "cell_type": "markdown",
   "metadata": {},
   "source": [
    "## Keras to the Moon\n",
    "*If code differs between the notebook and the curriculum, go with the notebook!!!*"
   ]
  },
  {
   "cell_type": "markdown",
   "metadata": {},
   "source": [
    "### Imports"
   ]
  },
  {
   "cell_type": "code",
   "execution_count": 1,
   "metadata": {},
   "outputs": [
    {
     "name": "stderr",
     "output_type": "stream",
     "text": [
      "Using TensorFlow backend.\n",
      "/Users/dma-admin/opt/anaconda3/lib/python3.7/site-packages/tensorflow/python/framework/dtypes.py:526: FutureWarning: Passing (type, 1) or '1type' as a synonym of type is deprecated; in a future version of numpy, it will be understood as (type, (1,)) / '(1,)type'.\n",
      "  _np_qint8 = np.dtype([(\"qint8\", np.int8, 1)])\n",
      "/Users/dma-admin/opt/anaconda3/lib/python3.7/site-packages/tensorflow/python/framework/dtypes.py:527: FutureWarning: Passing (type, 1) or '1type' as a synonym of type is deprecated; in a future version of numpy, it will be understood as (type, (1,)) / '(1,)type'.\n",
      "  _np_quint8 = np.dtype([(\"quint8\", np.uint8, 1)])\n",
      "/Users/dma-admin/opt/anaconda3/lib/python3.7/site-packages/tensorflow/python/framework/dtypes.py:528: FutureWarning: Passing (type, 1) or '1type' as a synonym of type is deprecated; in a future version of numpy, it will be understood as (type, (1,)) / '(1,)type'.\n",
      "  _np_qint16 = np.dtype([(\"qint16\", np.int16, 1)])\n",
      "/Users/dma-admin/opt/anaconda3/lib/python3.7/site-packages/tensorflow/python/framework/dtypes.py:529: FutureWarning: Passing (type, 1) or '1type' as a synonym of type is deprecated; in a future version of numpy, it will be understood as (type, (1,)) / '(1,)type'.\n",
      "  _np_quint16 = np.dtype([(\"quint16\", np.uint16, 1)])\n",
      "/Users/dma-admin/opt/anaconda3/lib/python3.7/site-packages/tensorflow/python/framework/dtypes.py:530: FutureWarning: Passing (type, 1) or '1type' as a synonym of type is deprecated; in a future version of numpy, it will be understood as (type, (1,)) / '(1,)type'.\n",
      "  _np_qint32 = np.dtype([(\"qint32\", np.int32, 1)])\n",
      "/Users/dma-admin/opt/anaconda3/lib/python3.7/site-packages/tensorflow/python/framework/dtypes.py:535: FutureWarning: Passing (type, 1) or '1type' as a synonym of type is deprecated; in a future version of numpy, it will be understood as (type, (1,)) / '(1,)type'.\n",
      "  np_resource = np.dtype([(\"resource\", np.ubyte, 1)])\n"
     ]
    }
   ],
   "source": [
    "from keras.models import Model, Sequential\n",
    "from keras.layers.core import Dense, Dropout\n",
    "from keras.layers import Input, Concatenate\n",
    "\n",
    "import gym\n",
    "import numpy as np"
   ]
  },
  {
   "cell_type": "markdown",
   "metadata": {},
   "source": [
    "### Creating the environment"
   ]
  },
  {
   "cell_type": "code",
   "execution_count": 2,
   "metadata": {},
   "outputs": [],
   "source": [
    "env = gym.make('LunarLander-v2')"
   ]
  },
  {
   "cell_type": "code",
   "execution_count": 3,
   "metadata": {},
   "outputs": [],
   "source": [
    "action_space = env.action_space.n\n",
    "def getStateSize():\n",
    "    env.reset()\n",
    "    act = env.action_space.sample()\n",
    "    obs, _, _, _ = env.step(act)\n",
    "    return len(obs)\n",
    "\n",
    "state_space = getStateSize()"
   ]
  },
  {
   "cell_type": "markdown",
   "metadata": {},
   "source": [
    "### Creating the models\n",
    "#### single network NN"
   ]
  },
  {
   "cell_type": "code",
   "execution_count": 4,
   "metadata": {},
   "outputs": [
    {
     "name": "stdout",
     "output_type": "stream",
     "text": [
      "WARNING:tensorflow:From /Library/Frameworks/Python.framework/Versions/3.7/lib/python3.7/site-packages/tensorflow/python/framework/op_def_library.py:263: colocate_with (from tensorflow.python.framework.ops) is deprecated and will be removed in a future version.\n",
      "Instructions for updating:\n",
      "Colocations handled automatically by placer.\n"
     ]
    }
   ],
   "source": [
    "# single network NN\n",
    "#Define input layer\n",
    "input_layer = Input(shape=(state_space,))\n",
    "\n",
    "hdn_1 = Dense(300, activation='relu')(input_layer)\n",
    "hdn_2 = Dense(150, activation='relu')(hdn_1)\n",
    "hdn_3 = Dense(100, activation='relu')(hdn_2)\n",
    "hdn_4 = Dense(50, activation='relu')(hdn_3)\n",
    "output_dense = Dense(action_space, activation='softmax')(hdn_4)\n",
    "\n",
    "model = Model(inputs=input_layer, outputs=output_dense)\n",
    "model.compile(optimizer='rmsprop', loss='categorical_crossentropy', metrics=['acc'])"
   ]
  },
  {
   "cell_type": "markdown",
   "metadata": {},
   "source": [
    "#### double network NN"
   ]
  },
  {
   "cell_type": "code",
   "execution_count": 5,
   "metadata": {},
   "outputs": [
    {
     "name": "stdout",
     "output_type": "stream",
     "text": [
      "WARNING:tensorflow:From /Library/Frameworks/Python.framework/Versions/3.7/lib/python3.7/site-packages/keras/backend/tensorflow_backend.py:3445: calling dropout (from tensorflow.python.ops.nn_ops) with keep_prob is deprecated and will be removed in a future version.\n",
      "Instructions for updating:\n",
      "Please use `rate` instead of `keep_prob`. Rate should be set to `rate = 1 - keep_prob`.\n"
     ]
    }
   ],
   "source": [
    "# multiple network NN w/ Concatenate\n",
    "# Define input layer\n",
    "input_layer = Input(shape=(state_space,))\n",
    "\n",
    "# Now, we'll process this data in TWO neural networks simultaneously and combine them at the end\n",
    "# This version has dropouts included between each dense layer. the rate value is the percentage\n",
    "# of inputs to drop.\n",
    "\n",
    "#Network 1:\n",
    "hdn1_1 = Dense(300, activation='relu')(input_layer)\n",
    "hdn1_2 = Dropout(rate=0.2)(hdn1_1)\n",
    "hdn1_3 = Dense(150, activation='relu')(hdn1_2)\n",
    "hdn1_4 = Dropout(rate=0.2)(hdn1_3)\n",
    "hdn1_5 = Dense(100, activation='relu')(hdn1_4)\n",
    "hdn1_6 = Dropout(rate=0.2)(hdn1_5)\n",
    "\n",
    "#Network 2:\n",
    "hdn2_1 = Dense(300, activation='linear')(input_layer)\n",
    "hdn2_2 = Dropout(rate=0.2)(hdn2_1)\n",
    "hdn2_3 = Dense(150, activation='linear')(hdn2_2)\n",
    "hdn2_4 = Dropout(rate=0.2)(hdn2_3)\n",
    "hdn2_5 = Dense(100, activation='linear')(hdn2_4)\n",
    "hdn2_6 = Dropout(rate=0.2)(hdn2_5)\n",
    "\n",
    "# Combine the networks using Concatenate()\n",
    "# Concatenate in Keras takes two layers and smashes them together into one, single layer.\n",
    "# It allows us to combine the outputs of many networks!\n",
    "combined_nn_input = Concatenate()([hdn1_6, hdn2_6])\n",
    "\n",
    "#And make an output layer:\n",
    "output_dense = Dense(action_space, activation='softmax')(combined_nn_input)\n",
    "model = Model(inputs=input_layer, outputs=output_dense)\n",
    "model.compile(optimizer='rmsprop', loss='categorical_crossentropy', metrics=['acc'])"
   ]
  },
  {
   "cell_type": "code",
   "execution_count": 6,
   "metadata": {
    "scrolled": false
   },
   "outputs": [
    {
     "name": "stdout",
     "output_type": "stream",
     "text": [
      "__________________________________________________________________________________________________\n",
      "Layer (type)                    Output Shape         Param #     Connected to                     \n",
      "==================================================================================================\n",
      "input_2 (InputLayer)            (None, 8)            0                                            \n",
      "__________________________________________________________________________________________________\n",
      "dense_6 (Dense)                 (None, 300)          2700        input_2[0][0]                    \n",
      "__________________________________________________________________________________________________\n",
      "dense_9 (Dense)                 (None, 300)          2700        input_2[0][0]                    \n",
      "__________________________________________________________________________________________________\n",
      "dropout_1 (Dropout)             (None, 300)          0           dense_6[0][0]                    \n",
      "__________________________________________________________________________________________________\n",
      "dropout_4 (Dropout)             (None, 300)          0           dense_9[0][0]                    \n",
      "__________________________________________________________________________________________________\n",
      "dense_7 (Dense)                 (None, 150)          45150       dropout_1[0][0]                  \n",
      "__________________________________________________________________________________________________\n",
      "dense_10 (Dense)                (None, 150)          45150       dropout_4[0][0]                  \n",
      "__________________________________________________________________________________________________\n",
      "dropout_2 (Dropout)             (None, 150)          0           dense_7[0][0]                    \n",
      "__________________________________________________________________________________________________\n",
      "dropout_5 (Dropout)             (None, 150)          0           dense_10[0][0]                   \n",
      "__________________________________________________________________________________________________\n",
      "dense_8 (Dense)                 (None, 100)          15100       dropout_2[0][0]                  \n",
      "__________________________________________________________________________________________________\n",
      "dense_11 (Dense)                (None, 100)          15100       dropout_5[0][0]                  \n",
      "__________________________________________________________________________________________________\n",
      "dropout_3 (Dropout)             (None, 100)          0           dense_8[0][0]                    \n",
      "__________________________________________________________________________________________________\n",
      "dropout_6 (Dropout)             (None, 100)          0           dense_11[0][0]                   \n",
      "__________________________________________________________________________________________________\n",
      "concatenate_1 (Concatenate)     (None, 200)          0           dropout_3[0][0]                  \n",
      "                                                                 dropout_6[0][0]                  \n",
      "__________________________________________________________________________________________________\n",
      "dense_12 (Dense)                (None, 4)            804         concatenate_1[0][0]              \n",
      "==================================================================================================\n",
      "Total params: 126,704\n",
      "Trainable params: 126,704\n",
      "Non-trainable params: 0\n",
      "__________________________________________________________________________________________________\n"
     ]
    }
   ],
   "source": [
    "# Get a nice printout of your model!\n",
    "model.summary()"
   ]
  },
  {
   "cell_type": "markdown",
   "metadata": {},
   "source": [
    "### Generating data and training"
   ]
  },
  {
   "cell_type": "code",
   "execution_count": 7,
   "metadata": {},
   "outputs": [],
   "source": [
    "# identical to the cartpole data generator, except\n",
    "# the data is shaped differently at the output to make\n",
    "# up for the more picky functional API input layer\n",
    "def initial_data(number_of_games, game_turns, acceptable_score):\n",
    "    X=[]\n",
    "    y=[]\n",
    "    one_hot = [0 for i in range(action_space)]\n",
    "    for i in range(number_of_games):\n",
    "        env.reset()\n",
    "        game_memory = []\n",
    "        prev_obs = []\n",
    "        score = 0\n",
    "        for turn in range(game_turns):\n",
    "            action = env.action_space.sample()\n",
    "            new_obs, reward, done, info = env.step(action)\n",
    "            score += int(reward)\n",
    "            if turn > 0:\n",
    "                game_memory.append([prev_obs, int(action)])\n",
    "            prev_obs = new_obs\n",
    "            if done:\n",
    "                break\n",
    "                \n",
    "        if score >= acceptable_score:\n",
    "            for data in game_memory:\n",
    "                X.append(np.array(data[0]).reshape(1, state_space))\n",
    "                predicted_action = list(one_hot)\n",
    "                predicted_action[data[1]] = 1\n",
    "                y.append(np.array(predicted_action).reshape(1, action_space))\n",
    "    print('{} examples were made.'.format(len(X)))\n",
    "    return np.array(X).reshape(-1, state_space), np.array(y).reshape(-1, action_space)"
   ]
  },
  {
   "cell_type": "code",
   "execution_count": 8,
   "metadata": {},
   "outputs": [
    {
     "name": "stdout",
     "output_type": "stream",
     "text": [
      "620 examples were made.\n"
     ]
    }
   ],
   "source": [
    "X, y = initial_data(5000, 150, 10)"
   ]
  },
  {
   "cell_type": "code",
   "execution_count": 9,
   "metadata": {
    "scrolled": true
   },
   "outputs": [
    {
     "name": "stdout",
     "output_type": "stream",
     "text": [
      "WARNING:tensorflow:From /Library/Frameworks/Python.framework/Versions/3.7/lib/python3.7/site-packages/tensorflow/python/ops/math_ops.py:3066: to_int32 (from tensorflow.python.ops.math_ops) is deprecated and will be removed in a future version.\n",
      "Instructions for updating:\n",
      "Use tf.cast instead.\n",
      "Train on 496 samples, validate on 124 samples\n",
      "Epoch 1/10\n",
      " - 1s - loss: 1.4232 - acc: 0.2500 - val_loss: 1.4294 - val_acc: 0.2177\n",
      "Epoch 2/10\n",
      " - 0s - loss: 1.4029 - acc: 0.2601 - val_loss: 1.4348 - val_acc: 0.2661\n",
      "Epoch 3/10\n",
      " - 0s - loss: 1.4063 - acc: 0.2681 - val_loss: 1.4549 - val_acc: 0.2581\n",
      "Epoch 4/10\n",
      " - 0s - loss: 1.3997 - acc: 0.2540 - val_loss: 1.4349 - val_acc: 0.2097\n",
      "Epoch 5/10\n",
      " - 0s - loss: 1.3912 - acc: 0.2843 - val_loss: 1.4938 - val_acc: 0.1935\n",
      "Epoch 6/10\n",
      " - 0s - loss: 1.3894 - acc: 0.2843 - val_loss: 1.4383 - val_acc: 0.2500\n",
      "Epoch 7/10\n",
      " - 0s - loss: 1.3918 - acc: 0.2802 - val_loss: 1.4344 - val_acc: 0.1694\n",
      "Epoch 8/10\n",
      " - 0s - loss: 1.3831 - acc: 0.2681 - val_loss: 1.4709 - val_acc: 0.2016\n",
      "Epoch 9/10\n",
      " - 0s - loss: 1.3854 - acc: 0.2641 - val_loss: 1.4664 - val_acc: 0.2419\n",
      "Epoch 10/10\n",
      " - 0s - loss: 1.3882 - acc: 0.2762 - val_loss: 1.4515 - val_acc: 0.2500\n"
     ]
    },
    {
     "data": {
      "text/plain": [
       "<keras.callbacks.History at 0x13a0ea6d8>"
      ]
     },
     "execution_count": 9,
     "metadata": {},
     "output_type": "execute_result"
    }
   ],
   "source": [
    "model.fit(x=X, y=y, epochs=10, verbose=2, validation_split=0.2)"
   ]
  },
  {
   "cell_type": "markdown",
   "metadata": {},
   "source": [
    "### Playing"
   ]
  },
  {
   "cell_type": "code",
   "execution_count": 10,
   "metadata": {},
   "outputs": [],
   "source": [
    "def play_game(n_games, model=None):\n",
    "    for i in range(n_games):\n",
    "        score=0\n",
    "        state = env.reset()\n",
    "        prev_obs = []\n",
    "        num_moves = 0\n",
    "        done = False\n",
    "        while not done:\n",
    "            env.render()\n",
    "            num_moves += 1\n",
    "            action = None\n",
    "            if model == None:\n",
    "                action = env.action_space.sample()\n",
    "            else:\n",
    "                if len(prev_obs) < 1:\n",
    "                    action = env.action_space.sample()\n",
    "                else:\n",
    "                    action = np.argmax(model.predict(prev_obs.reshape(-1, state_space))) \n",
    "            new_obs, reward, done, _ = env.step(action)\n",
    "            prev_obs = new_obs\n",
    "            score += reward\n",
    "              \n",
    "        env.close()\n",
    "        print('Final score: {}'.format(score))\n",
    "        print('# moves: {}'.format(num_moves))"
   ]
  },
  {
   "cell_type": "code",
   "execution_count": 11,
   "metadata": {
    "scrolled": false
   },
   "outputs": [
    {
     "name": "stdout",
     "output_type": "stream",
     "text": [
      "Final score: -476.1938946874037\n",
      "# moves: 97\n",
      "Final score: -118.09914966188109\n",
      "# moves: 62\n",
      "Final score: -69.92155666418927\n",
      "# moves: 92\n"
     ]
    }
   ],
   "source": [
    "play_game(3, model)"
   ]
  }
 ],
 "metadata": {
  "kernelspec": {
   "display_name": "Python 3",
   "language": "python",
   "name": "python3"
  },
  "language_info": {
   "codemirror_mode": {
    "name": "ipython",
    "version": 3
   },
   "file_extension": ".py",
   "mimetype": "text/x-python",
   "name": "python",
   "nbconvert_exporter": "python",
   "pygments_lexer": "ipython3",
   "version": "3.7.6"
  }
 },
 "nbformat": 4,
 "nbformat_minor": 2
}
